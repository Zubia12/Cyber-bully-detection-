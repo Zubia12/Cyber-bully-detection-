{
 "cells": [
  {
   "cell_type": "code",
   "execution_count": 1,
   "id": "582ccafa-a5b3-4459-a7b8-4e4580122aa0",
   "metadata": {},
   "outputs": [],
   "source": [
    "# importing libraries\n",
    "\n",
    "import pandas as pd\n",
    "import numpy as np\n",
    "import matplotlib.pyplot as plt\n",
    "import seaborn as sns\n",
    "from sklearn.model_selection import train_test_split\n",
    "from sklearn.feature_extraction.text import TfidfVectorizer\n",
    "from sklearn.naive_bayes import MultinomialNB\n",
    "from sklearn.ensemble import BaggingClassifier, AdaBoostClassifier\n",
    "from sklearn.svm import SVC\n",
    "from collections import Counter\n"
   ]
  },
  {
   "cell_type": "markdown",
   "id": "6c19adb2-c0d8-467d-a07d-bf607100e0fe",
   "metadata": {},
   "source": [
    "# STEP 1 EDA"
   ]
  },
  {
   "cell_type": "code",
   "execution_count": 2,
   "id": "135a439d-8124-4e8e-9db2-ebdc3e0cf737",
   "metadata": {},
   "outputs": [],
   "source": [
    "# read the dataset we made\n",
    "\n",
    "df = pd.read_csv(\"new.csv\", encoding=\"latin1\")\n"
   ]
  },
  {
   "cell_type": "code",
   "execution_count": 3,
   "id": "7f9c9ce8-3054-4efa-b9b6-909c6f245224",
   "metadata": {},
   "outputs": [
    {
     "name": "stdout",
     "output_type": "stream",
     "text": [
      "   is_offensive                                               text\n",
      "0             0                       you are such a lovely person\n",
      "1             0                         I am so happy for you sara\n",
      "2             1                                    you are so ugly\n",
      "3             1                          you should die its better\n",
      "4             0  Then go to the village pump and suggest they c...\n"
     ]
    }
   ],
   "source": [
    "# Check dataset structure\n",
    "\n",
    "print(df.head())"
   ]
  },
  {
   "cell_type": "code",
   "execution_count": 4,
   "id": "aade30c3-c0c4-43a4-8404-4c59d7ab71b9",
   "metadata": {},
   "outputs": [
    {
     "name": "stdout",
     "output_type": "stream",
     "text": [
      "<class 'pandas.core.frame.DataFrame'>\n",
      "RangeIndex: 186111 entries, 0 to 186110\n",
      "Data columns (total 2 columns):\n",
      " #   Column        Non-Null Count   Dtype \n",
      "---  ------        --------------   ----- \n",
      " 0   is_offensive  186111 non-null  int64 \n",
      " 1   text          186107 non-null  object\n",
      "dtypes: int64(1), object(1)\n",
      "memory usage: 2.8+ MB\n"
     ]
    }
   ],
   "source": [
    "df.info()"
   ]
  },
  {
   "cell_type": "code",
   "execution_count": 5,
   "id": "40021bc8-62c9-4d34-a5f5-a1f77648f20d",
   "metadata": {},
   "outputs": [
    {
     "data": {
      "text/plain": [
       "is_offensive    0\n",
       "text            4\n",
       "dtype: int64"
      ]
     },
     "execution_count": 5,
     "metadata": {},
     "output_type": "execute_result"
    }
   ],
   "source": [
    "df.isnull().sum()"
   ]
  },
  {
   "cell_type": "code",
   "execution_count": 6,
   "id": "84f74ce4-10ca-414a-8367-ae31c6917fe0",
   "metadata": {},
   "outputs": [
    {
     "data": {
      "text/html": [
       "<div>\n",
       "<style scoped>\n",
       "    .dataframe tbody tr th:only-of-type {\n",
       "        vertical-align: middle;\n",
       "    }\n",
       "\n",
       "    .dataframe tbody tr th {\n",
       "        vertical-align: top;\n",
       "    }\n",
       "\n",
       "    .dataframe thead th {\n",
       "        text-align: right;\n",
       "    }\n",
       "</style>\n",
       "<table border=\"1\" class=\"dataframe\">\n",
       "  <thead>\n",
       "    <tr style=\"text-align: right;\">\n",
       "      <th></th>\n",
       "      <th>is_offensive</th>\n",
       "    </tr>\n",
       "  </thead>\n",
       "  <tbody>\n",
       "    <tr>\n",
       "      <th>count</th>\n",
       "      <td>186111.000000</td>\n",
       "    </tr>\n",
       "    <tr>\n",
       "      <th>mean</th>\n",
       "      <td>0.206877</td>\n",
       "    </tr>\n",
       "    <tr>\n",
       "      <th>std</th>\n",
       "      <td>0.405067</td>\n",
       "    </tr>\n",
       "    <tr>\n",
       "      <th>min</th>\n",
       "      <td>0.000000</td>\n",
       "    </tr>\n",
       "    <tr>\n",
       "      <th>25%</th>\n",
       "      <td>0.000000</td>\n",
       "    </tr>\n",
       "    <tr>\n",
       "      <th>50%</th>\n",
       "      <td>0.000000</td>\n",
       "    </tr>\n",
       "    <tr>\n",
       "      <th>75%</th>\n",
       "      <td>0.000000</td>\n",
       "    </tr>\n",
       "    <tr>\n",
       "      <th>max</th>\n",
       "      <td>1.000000</td>\n",
       "    </tr>\n",
       "  </tbody>\n",
       "</table>\n",
       "</div>"
      ],
      "text/plain": [
       "        is_offensive\n",
       "count  186111.000000\n",
       "mean        0.206877\n",
       "std         0.405067\n",
       "min         0.000000\n",
       "25%         0.000000\n",
       "50%         0.000000\n",
       "75%         0.000000\n",
       "max         1.000000"
      ]
     },
     "execution_count": 6,
     "metadata": {},
     "output_type": "execute_result"
    }
   ],
   "source": [
    "df.describe()\n"
   ]
  },
  {
   "cell_type": "code",
   "execution_count": 7,
   "id": "082a04ad-f678-4d61-b66b-d1c10a01c184",
   "metadata": {},
   "outputs": [],
   "source": [
    "# Rename column (if needed, remove `#` if there's an issue with column naming)\n",
    "\n",
    "df = df.rename(columns={'# is_offensive': 'is_offensive'})\n"
   ]
  },
  {
   "cell_type": "code",
   "execution_count": 8,
   "id": "90b44d9b-475c-475b-adf5-2e9d4b4d7b6c",
   "metadata": {},
   "outputs": [
    {
     "name": "stdout",
     "output_type": "stream",
     "text": [
      "is_offensive\n",
      "0    147609\n",
      "1     38502\n",
      "Name: count, dtype: int64\n"
     ]
    }
   ],
   "source": [
    "# Check class distribution\n",
    "print(df['is_offensive'].value_counts())\n"
   ]
  },
  {
   "cell_type": "code",
   "execution_count": 10,
   "id": "9aac3a9c-878f-4ea6-affc-a3d6a8948259",
   "metadata": {},
   "outputs": [
    {
     "data": {
      "image/png": "[encoded data removed]",
      "text/plain": [
       "<Figure size 640x480 with 1 Axes>"
      ]
     },
     "metadata": {},
     "output_type": "display_data"
    }
   ],
   "source": [
    " # Data classification using pie chart tomcheck the %\n",
    "\n",
    "def performDataDistribution(df):\n",
    "  plt.style.use('fivethirtyeight')\n",
    "\n",
    "  tot = df.shape[0]\n",
    "  num_non_toxic = df[df.is_offensive==0].shape[0]\n",
    "  slices = [num_non_toxic/tot,(tot - num_non_toxic)/tot]\n",
    "  labeling = ['Non-Toxic','Toxic']\n",
    "  explode = [0.2,0]\n",
    "  plt.pie(slices,explode=explode,shadow=True,autopct='%1.1f%%',labels=labeling,wedgeprops={'edgecolor':'black'})\n",
    "  plt.title('Number of Toxic vs. Non-Toxic Text Samples')\n",
    "  plt.tight_layout()\n",
    "  plt.show()\n",
    "performDataDistribution(df)\n",
    "    "
   ]
  },
  {
   "cell_type": "code",
   "execution_count": 11,
   "id": "33c1f72e-d260-4e6b-86e7-7a5b0266c934",
   "metadata": {},
   "outputs": [
    {
     "name": "stdout",
     "output_type": "stream",
     "text": [
      "Index(['is_offensive', 'text'], dtype='object')\n"
     ]
    }
   ],
   "source": [
    "print(df.columns)\n"
   ]
  },
  {
   "cell_type": "code",
   "execution_count": 12,
   "id": "0b69370b-539c-43d3-b0f5-8399efdbcc9a",
   "metadata": {},
   "outputs": [
    {
     "name": "stdout",
     "output_type": "stream",
     "text": [
      "(186111, 2)\n"
     ]
    }
   ],
   "source": [
    "print(df.shape)"
   ]
  },
  {
   "cell_type": "markdown",
   "id": "8372e9ae-90b8-4d2d-a175-1e11b7b8b464",
   "metadata": {},
   "source": [
    "# STEP 2 DATA PRE-PROCESSING"
   ]
  },
  {
   "cell_type": "code",
   "execution_count": 13,
   "id": "3d6b53fc-365a-4101-ae3a-401259cd4ce8",
   "metadata": {},
   "outputs": [],
   "source": [
    "# removes a specific pattern from a piece of text\n",
    "\n",
    "\n",
    "# Import the 're' module for working with regular expressions\n",
    "import re\n",
    "\n",
    "# Function to remove a specific pattern from a given text\n",
    "def remove_pattern(input_txt, pattern):\n",
    "    # Check if the input text is a string to avoid errors\n",
    "    if type(input_txt) == str:\n",
    "        # Find all occurrences of the pattern in the input text\n",
    "        r = re.findall(pattern, input_txt)\n",
    "\n",
    "        # Iterate through all matches found\n",
    "        for i in r:\n",
    "            # Replace each occurrence of the pattern with an empty string\n",
    "            input_txt = re.sub(i, '', input_txt)\n",
    "\n",
    "        # Return the modified text after removing the pattern\n",
    "        return input_txt\n",
    "    else:\n",
    "        # If the input is not a string, return an empty string\n",
    "        return \"\"\n"
   ]
  },
  {
   "cell_type": "code",
   "execution_count": 14,
   "id": "5c021898-03e7-4453-aa58-f20249085d93",
   "metadata": {},
   "outputs": [
    {
     "name": "stderr",
     "output_type": "stream",
     "text": [
      "[nltk_data] Downloading package punkt to\n",
      "[nltk_data]     C:\\Users\\mohsi\\AppData\\Roaming\\nltk_data...\n",
      "[nltk_data]   Package punkt is already up-to-date!\n",
      "[nltk_data] Downloading package wordnet to\n",
      "[nltk_data]     C:\\Users\\mohsi\\AppData\\Roaming\\nltk_data...\n",
      "[nltk_data]   Package wordnet is already up-to-date!\n",
      "[nltk_data] Downloading package omw-1.4 to\n",
      "[nltk_data]     C:\\Users\\mohsi\\AppData\\Roaming\\nltk_data...\n",
      "[nltk_data]   Package omw-1.4 is already up-to-date!\n",
      "[nltk_data] Downloading package stopwords to\n",
      "[nltk_data]     C:\\Users\\mohsi\\AppData\\Roaming\\nltk_data...\n",
      "[nltk_data]   Package stopwords is already up-to-date!\n"
     ]
    },
    {
     "data": {
      "text/plain": [
       "True"
      ]
     },
     "execution_count": 14,
     "metadata": {},
     "output_type": "execute_result"
    }
   ],
   "source": [
    "import pandas as pd\n",
    "import nltk\n",
    "from nltk.tokenize import word_tokenize\n",
    "from nltk.stem import WordNetLemmatizer\n",
    "from sklearn.feature_extraction.text import TfidfVectorizer, CountVectorizer\n",
    "from sklearn.model_selection import train_test_split\n",
    "\n",
    "# Download required NLTK resources\n",
    "nltk.download('punkt')        # Tokenization\n",
    "nltk.download('wordnet')      # Lemmatization\n",
    "nltk.download('omw-1.4')      # WordNet Lemmatizer support\n",
    "nltk.download('stopwords')    # Stopwords (if needed)\n"
   ]
  },
  {
   "cell_type": "code",
   "execution_count": 15,
   "id": "89c28b5a-437d-4346-95c8-458a4e55821a",
   "metadata": {},
   "outputs": [],
   "source": [
    "def clean_text(text):\n",
    "    # Remove @user mentions\n",
    "    text = re.sub(r'@[\\w]*', '', str(text))\n",
    "\n",
    "    # Remove non-alphabetic characters (keep words only)\n",
    "    text = re.sub(r\"[^a-zA-Z#]\", \" \", text)\n",
    "\n",
    "    # Tokenization\n",
    "    tokens = word_tokenize(text.lower())  # Convert to lowercase\n",
    "\n",
    "    # Remove stopwords\n",
    "    stop_words = set(stopwords.words('english'))\n",
    "    tokens = [word for word in tokens if word not in stop_words]\n",
    "\n",
    "    # Lemmatization\n",
    "    lemmatizer = WordNetLemmatizer()\n",
    "    lemmatized_tokens = [lemmatizer.lemmatize(word) for word in tokens]\n",
    "\n",
    "    # Remove words with length < 3\n",
    "    lemmatized_tokens = [word for word in lemmatized_tokens if len(word) > 2]\n",
    "\n",
    "    # Convert tokens back to sentence\n",
    "    return \" \".join(lemmatized_tokens)\n"
   ]
  },
  {
   "cell_type": "code",
   "execution_count": 16,
   "id": "ab2a62aa-5792-4cc6-8855-b0555c4e1d4f",
   "metadata": {},
   "outputs": [
    {
     "name": "stdout",
     "output_type": "stream",
     "text": [
      "                                                text  \\\n",
      "0                       you are such a lovely person   \n",
      "1                         I am so happy for you sara   \n",
      "2                                    you are so ugly   \n",
      "3                          you should die its better   \n",
      "4  Then go to the village pump and suggest they c...   \n",
      "\n",
      "                                   cleaned_text  \n",
      "0                                 lovely person  \n",
      "1                                    happy sara  \n",
      "2                                          ugly  \n",
      "3                                    die better  \n",
      "4  village pump suggest change language rfc set  \n"
     ]
    }
   ],
   "source": [
    "import nltk\n",
    "from nltk.corpus import stopwords\n",
    "from nltk.tokenize import word_tokenize\n",
    "\n",
    "df['cleaned_text'] = df['text'].apply(clean_text)\n",
    "\n",
    "# Show before & after cleaning\n",
    "print(df[['text', 'cleaned_text']].head())\n"
   ]
  },
  {
   "cell_type": "code",
   "execution_count": 17,
   "id": "7aafa7f9-4e41-43cf-8bdd-d0d2996fa85e",
   "metadata": {},
   "outputs": [
    {
     "name": "stdout",
     "output_type": "stream",
     "text": [
      "Before Cleaning: you are such a lovely person\n",
      "After Cleaning: lovely person\n"
     ]
    }
   ],
   "source": [
    "# Example before & after stopword removal\n",
    "\n",
    "print(\"Before Cleaning:\", df['text'][0])\n",
    "print(\"After Cleaning:\", df['cleaned_text'][0])\n"
   ]
  },
  {
   "cell_type": "code",
   "execution_count": 18,
   "id": "fe4daa2e-d623-4811-bdee-8d40ea45553e",
   "metadata": {},
   "outputs": [
    {
     "name": "stdout",
     "output_type": "stream",
     "text": [
      "✅ Cleaned data saved as 'cleaned_new.csv'!\n"
     ]
    }
   ],
   "source": [
    "df.to_csv(\"cleaned_new.csv\", index=False)\n",
    "print(\"✅ Cleaned data saved as 'cleaned_new.csv'!\")\n"
   ]
  },
  {
   "cell_type": "code",
   "execution_count": 19,
   "id": "8e69bc07-bb9b-4073-8a69-58d718e681c9",
   "metadata": {},
   "outputs": [
    {
     "name": "stdout",
     "output_type": "stream",
     "text": [
      "   is_offensive                                               text  \\\n",
      "0             0                       you are such a lovely person   \n",
      "1             0                         I am so happy for you sara   \n",
      "2             1                                    you are so ugly   \n",
      "3             1                          you should die its better   \n",
      "4             0  Then go to the village pump and suggest they c...   \n",
      "\n",
      "                                   cleaned_text  \n",
      "0                                 lovely person  \n",
      "1                                    happy sara  \n",
      "2                                          ugly  \n",
      "3                                    die better  \n",
      "4  village pump suggest change language rfc set  \n"
     ]
    }
   ],
   "source": [
    "print(df.head())"
   ]
  },
  {
   "cell_type": "code",
   "execution_count": 20,
   "id": "5019007a-329b-4622-a542-8905e7408748",
   "metadata": {},
   "outputs": [
    {
     "data": {
      "text/plain": [
       "(186111, 3)"
      ]
     },
     "execution_count": 20,
     "metadata": {},
     "output_type": "execute_result"
    }
   ],
   "source": [
    "df.shape\n"
   ]
  },
  {
   "cell_type": "markdown",
   "id": "9e10c9fc-195d-4bde-abf2-57d8dc255209",
   "metadata": {},
   "source": [
    "# STEP 3 Splitting of dataset &  feature selection (TFIDF & CV)"
   ]
  },
  {
   "cell_type": "code",
   "execution_count": 21,
   "id": "fed24604-e40d-4f94-b100-c743601871d6",
   "metadata": {},
   "outputs": [
    {
     "name": "stdout",
     "output_type": "stream",
     "text": [
      "TF-IDF and Count Vectorization completed successfully. Data saved in NPZ and Pickle format.\n"
     ]
    }
   ],
   "source": [
    "import pandas as pd\n",
    "from sklearn.feature_extraction.text import TfidfVectorizer, CountVectorizer\n",
    "from sklearn.model_selection import train_test_split\n",
    "import numpy as np\n",
    "import pickle\n",
    "\n",
    "# Load the preprocessed dataset\n",
    "df = pd.read_csv(\"cleaned_new.csv\")\n",
    "\n",
    "# Drop rows where 'text' is NaN or empty\n",
    "df = df.dropna(subset=[\"text\"])  # Remove missing text values\n",
    "df = df[df[\"text\"].str.strip() != \"\"]  # Remove empty strings\n",
    "\n",
    "# Split data into features and labels\n",
    "X = df[\"text\"].astype(str)  # Ensure all text data is string\n",
    "y = df[\"is_offensive\"]\n",
    "\n",
    "# Train-test split (80% train, 20% test)\n",
    "X_train, X_test, y_train, y_test = train_test_split(X, y, test_size=0.2, random_state=42, stratify=y)\n",
    "\n",
    "# TF-IDF Vectorization\n",
    "tfidf_vectorizer = TfidfVectorizer(ngram_range=(1,2), stop_words='english', max_features=5000)\n",
    "X_train_tfidf = tfidf_vectorizer.fit_transform(X_train)\n",
    "X_test_tfidf = tfidf_vectorizer.transform(X_test)\n",
    "\n",
    "# Count Vectorization\n",
    "cv_vectorizer = CountVectorizer(ngram_range=(1,2), stop_words='english', max_features=5000)\n",
    "X_train_cv = cv_vectorizer.fit_transform(X_train)\n",
    "X_test_cv = cv_vectorizer.transform(X_test)\n",
    "\n",
    "# Save processed data as NPZ\n",
    "np.savez(\"tfidf_data.npz\", X_train=X_train_tfidf.toarray(), X_test=X_test_tfidf.toarray(), y_train=y_train, y_test=y_test)\n",
    "np.savez(\"cv_data.npz\", X_train=X_train_cv.toarray(), X_test=X_test_cv.toarray(), y_train=y_train, y_test=y_test)\n",
    "\n",
    "# Save as Pickle\n",
    "with open(\"tfidf_vectorizer.pkl\", \"wb\") as f:\n",
    "    pickle.dump(tfidf_vectorizer, f)\n",
    "\n",
    "with open(\"cv_vectorizer.pkl\", \"wb\") as f:\n",
    "    pickle.dump(cv_vectorizer, f)\n",
    "\n",
    "with open(\"tfidf_train.pkl\", \"wb\") as f:\n",
    "    pickle.dump((X_train_tfidf, y_train), f)\n",
    "\n",
    "with open(\"tfidf_test.pkl\", \"wb\") as f:\n",
    "    pickle.dump((X_test_tfidf, y_test), f)\n",
    "\n",
    "with open(\"cv_train.pkl\", \"wb\") as f:\n",
    "    pickle.dump((X_train_cv, y_train), f)\n",
    "\n",
    "with open(\"cv_test.pkl\", \"wb\") as f:\n",
    "    pickle.dump((X_test_cv, y_test), f)\n",
    "\n",
    "print(\"TF-IDF and Count Vectorization completed successfully. Data saved in NPZ and Pickle format.\")\n",
    "\n",
    "import pickle\n",
    "\n",
    "# Load TF-IDF Vectorizer\n",
    "with open(\"tfidf_vectorizer.pkl\", \"rb\") as f:\n",
    "    tfidf_vectorizer = pickle.load(f)\n",
    "\n",
    "# Load TF-IDF transformed data\n",
    "with open(\"tfidf_train.pkl\", \"rb\") as f:\n",
    "    X_train_tfidf, y_train = pickle.load(f)\n"
   ]
  },
  {
   "cell_type": "markdown",
   "id": "2e21e356-29ad-40bc-b3eb-fee1f867a927",
   "metadata": {},
   "source": [
    "# Technique no 1 using tfdit to train algos"
   ]
  },
  {
   "cell_type": "code",
   "execution_count": 22,
   "id": "1b0a13fd-5a2b-4fb1-81ff-5b02719ad848",
   "metadata": {},
   "outputs": [
    {
     "name": "stdout",
     "output_type": "stream",
     "text": [
      "\n",
      "Training MultinomialNB_TFIDF...\n",
      "\n",
      "Accuracy of MultinomialNB_TFIDF: 0.9313\n",
      "\n",
      "Training BaggingClassifier_TFIDF...\n",
      "\n",
      "Accuracy of BaggingClassifier_TFIDF: 0.9394\n",
      "\n",
      "Training LinearSVC_TFIDF...\n",
      "\n",
      "Accuracy of LinearSVC_TFIDF: 0.9458\n",
      "\n",
      "Training AdaBoostClassifier_TFIDF...\n",
      "\n",
      "Accuracy of AdaBoostClassifier_TFIDF: 0.9066\n",
      "\n",
      "✅ Ultra-Fast Training Completed for TF-IDF!\n"
     ]
    }
   ],
   "source": [
    "import pickle\n",
    "from sklearn.naive_bayes import MultinomialNB\n",
    "from sklearn.ensemble import BaggingClassifier, AdaBoostClassifier\n",
    "from sklearn.svm import LinearSVC\n",
    "from sklearn.metrics import accuracy_score, classification_report\n",
    "from sklearn.svm import LinearSVC \n",
    "\n",
    "# Load TF-IDF Vectorized data\n",
    "with open(\"tfidf_train.pkl\", \"rb\") as f:\n",
    "    X_train_tfidf, y_train = pickle.load(f)\n",
    "\n",
    "with open(\"tfidf_test.pkl\", \"rb\") as f:\n",
    "    X_test_tfidf, y_test = pickle.load(f)\n",
    "\n",
    "# Keep sparse format (do NOT use .toarray())\n",
    "models = {\n",
    "    \"MultinomialNB_TFIDF\": MultinomialNB(),\n",
    "    \"BaggingClassifier_TFIDF\": BaggingClassifier(n_estimators=5, n_jobs=-1, random_state=42),  # Faster\n",
    "    \"LinearSVC_TFIDF\": LinearSVC(max_iter=5000, tol=1e-4, random_state=42),  # Optimized for speed\n",
    "    \"AdaBoostClassifier_TFIDF\": AdaBoostClassifier(n_estimators=10, random_state=42)  # Reduced n_estimators\n",
    "}\n",
    "\n",
    "for model_name, model in models.items():\n",
    "    print(f\"\\nTraining {model_name}...\")\n",
    "    model.fit(X_train_tfidf, y_train)  # Train model\n",
    "    y_pred = model.predict(X_test_tfidf)  # Predict on test data\n",
    "    \n",
    "    print(f\"\\nAccuracy of {model_name}: {accuracy_score(y_test, y_pred):.4f}\")\n",
    "    \n",
    "    # Save trained model\n",
    "    with open(f\"{model_name}.pkl\", \"wb\") as f:\n",
    "        pickle.dump(model, f)\n",
    "\n",
    "print(\"\\n✅ Ultra-Fast Training Completed for TF-IDF!\")\n"
   ]
  },
  {
   "cell_type": "markdown",
   "id": "3d68b8f4-aa1f-417c-8f58-da11fa30bb5f",
   "metadata": {},
   "source": [
    "# Technique no 2 using cv method for training algos"
   ]
  },
  {
   "cell_type": "code",
   "execution_count": 23,
   "id": "10d59390-2c54-4976-9b1c-bb786befcfd6",
   "metadata": {},
   "outputs": [
    {
     "name": "stdout",
     "output_type": "stream",
     "text": [
      "\n",
      "Training MultinomialNB_CV...\n",
      "\n",
      "Accuracy of MultinomialNB_CV: 0.9276\n",
      "\n",
      "Training BaggingClassifier_CV...\n",
      "\n",
      "Accuracy of BaggingClassifier_CV: 0.9292\n",
      "\n",
      "Training LinearSVC_CV...\n"
     ]
    },
    {
     "name": "stderr",
     "output_type": "stream",
     "text": [
      "C:\\Users\\mohsi\\anaconda3\\Lib\\site-packages\\sklearn\\svm\\_base.py:1244: ConvergenceWarning: Liblinear failed to converge, increase the number of iterations.\n",
      "  warnings.warn(\n"
     ]
    },
    {
     "name": "stdout",
     "output_type": "stream",
     "text": [
      "\n",
      "Accuracy of LinearSVC_CV: 0.9404\n",
      "\n",
      "Training AdaBoostClassifier_CV...\n",
      "\n",
      "Accuracy of AdaBoostClassifier_CV: 0.9063\n",
      "\n",
      "✅ Ultra-Fast Training Completed!\n"
     ]
    }
   ],
   "source": [
    "import pickle\n",
    "from sklearn.naive_bayes import MultinomialNB\n",
    "from sklearn.ensemble import BaggingClassifier, AdaBoostClassifier\n",
    "from sklearn.svm import LinearSVC\n",
    "from sklearn.metrics import accuracy_score, classification_report\n",
    "from sklearn.svm import LinearSVC \n",
    "\n",
    "# Load Count Vectorized data\n",
    "with open(\"cv_train.pkl\", \"rb\") as f:\n",
    "    X_train_cv, y_train = pickle.load(f)\n",
    "\n",
    "with open(\"cv_test.pkl\", \"rb\") as f:\n",
    "    X_test_cv, y_test = pickle.load(f)\n",
    "\n",
    "# Keep sparse format for speed\n",
    "models = {\n",
    "    \"MultinomialNB_CV\": MultinomialNB(),\n",
    "    \"BaggingClassifier_CV\": BaggingClassifier(n_estimators=5, n_jobs=-1, random_state=42),  # Faster\n",
    "    \"LinearSVC_CV\": LinearSVC(max_iter=5000, tol=1e-4, random_state=42),  # Optimized for speed\n",
    "    \"AdaBoostClassifier_CV\": AdaBoostClassifier(n_estimators=10, random_state=42)  # Reduced n_estimators\n",
    "}\n",
    "\n",
    "for model_name, model in models.items():\n",
    "    print(f\"\\nTraining {model_name}...\")\n",
    "    model.fit(X_train_cv, y_train)  # Train model\n",
    "    y_pred = model.predict(X_test_cv)  # Predict on test data\n",
    "    \n",
    "    print(f\"\\nAccuracy of {model_name}: {accuracy_score(y_test, y_pred):.4f}\")\n",
    "    with open(f\"{model_name}.pkl\", \"wb\") as f:\n",
    "        pickle.dump(model, f)\n",
    "\n",
    "print(\"\\n✅ Ultra-Fast Training Completed!\")\n"
   ]
  },
  {
   "cell_type": "markdown",
   "id": "f67fe731-ebde-4745-817f-ae275d1600c9",
   "metadata": {},
   "source": [
    "# evalation results for both techniques"
   ]
  },
  {
   "cell_type": "code",
   "execution_count": 24,
   "id": "5b728a7c-780a-4327-a225-a63383446165",
   "metadata": {},
   "outputs": [
    {
     "name": "stdout",
     "output_type": "stream",
     "text": [
      "\n",
      "📊 **Evaluation Results:**\n",
      "\n",
      "                Model Vectorization  Accuracy  Precision    Recall  F1 Score\n",
      "0       MultinomialNB            CV  0.927648   0.926375  0.927648  0.926797\n",
      "1       MultinomialNB         TFIDF  0.931275   0.929985  0.931275  0.928902\n",
      "2   BaggingClassifier            CV  0.929207   0.928523  0.929207  0.928816\n",
      "3   BaggingClassifier         TFIDF  0.939362   0.938227  0.939362  0.938394\n",
      "4           LinearSVC            CV  0.940383   0.939907  0.940383  0.938250\n",
      "5           LinearSVC         TFIDF  0.945837   0.945900  0.945837  0.943847\n",
      "6  AdaBoostClassifier            CV  0.906289   0.914116  0.906289  0.895813\n",
      "7  AdaBoostClassifier         TFIDF  0.906612   0.914305  0.906612  0.896248\n",
      "\n",
      "✅ Evaluation results saved to 'model_evaluation_results.csv'\n"
     ]
    }
   ],
   "source": [
    "# evalation results for both methods of feature selection \n",
    "# table for comparison of both methods tfidf and cv\n",
    "\n",
    "import pickle\n",
    "import pandas as pd\n",
    "from sklearn.metrics import accuracy_score, precision_score, recall_score, f1_score\n",
    "\n",
    "# Load Test Data\n",
    "with open(\"cv_test.pkl\", \"rb\") as f:\n",
    "    X_test_cv, y_test = pickle.load(f)\n",
    "\n",
    "with open(\"tfidf_test.pkl\", \"rb\") as f:\n",
    "    X_test_tfidf, y_test = pickle.load(f)\n",
    "\n",
    "# Models to Evaluate\n",
    "model_names = [\n",
    "    \"MultinomialNB\",\n",
    "    \"BaggingClassifier\",\n",
    "    \"LinearSVC\",\n",
    "    \"AdaBoostClassifier\"\n",
    "]\n",
    "\n",
    "# Initialize List to Store Results\n",
    "results = []\n",
    "\n",
    "for model_name in model_names:\n",
    "    for method in [\"CV\", \"TFIDF\"]:  # Evaluate for both CountVectorizer and TF-IDF\n",
    "        model_file = f\"{model_name}_{method}.pkl\"\n",
    "        \n",
    "        # Load trained model\n",
    "        with open(model_file, \"rb\") as f:\n",
    "            model = pickle.load(f)\n",
    "        \n",
    "        # Select test data based on method\n",
    "        X_test = X_test_cv if method == \"CV\" else X_test_tfidf\n",
    "        \n",
    "        # Predict\n",
    "        y_pred = model.predict(X_test)\n",
    "        \n",
    "        # Compute Metrics\n",
    "        accuracy = accuracy_score(y_test, y_pred)\n",
    "        precision = precision_score(y_test, y_pred, average=\"weighted\", zero_division=0)\n",
    "        recall = recall_score(y_test, y_pred, average=\"weighted\", zero_division=0)\n",
    "        f1 = f1_score(y_test, y_pred, average=\"weighted\", zero_division=0)\n",
    "        \n",
    "        # Store results\n",
    "        results.append([model_name, method, accuracy, precision, recall, f1])\n",
    "\n",
    "# Convert to Pandas DataFrame\n",
    "results_df = pd.DataFrame(results, columns=[\"Model\", \"Vectorization\", \"Accuracy\", \"Precision\", \"Recall\", \"F1 Score\"])\n",
    "\n",
    "# Print Table\n",
    "print(\"\\n📊 **Evaluation Results:**\\n\")\n",
    "print(results_df)\n",
    "\n",
    "# Save Results to CSV (optional)\n",
    "results_df.to_csv(\"model_evaluation_results.csv\", index=False)\n",
    "print(\"\\n✅ Evaluation results saved to 'model_evaluation_results.csv'\")\n"
   ]
  },
  {
   "cell_type": "markdown",
   "id": "5ee6f095-a052-4cf2-86a6-3bfff1f35092",
   "metadata": {},
   "source": [
    "# Confusion matrix for every algorithm using both techniques"
   ]
  },
  {
   "cell_type": "code",
   "execution_count": 26,
   "id": "c99285b6-0bce-4f38-9a47-d642f7e892d1",
   "metadata": {},
   "outputs": [
    {
     "name": "stdout",
     "output_type": "stream",
     "text": [
      "\n",
      "Confusion Matrix for MultinomialNB (CV):\n",
      "[[28409  1112]\n",
      " [ 1581  6119]]\n",
      "\n",
      "Confusion Matrix for MultinomialNB (TFIDF):\n",
      "[[28879   642]\n",
      " [ 1916  5784]]\n",
      "\n",
      "Confusion Matrix for BaggingClassifier (CV):\n",
      "[[28316  1205]\n",
      " [ 1430  6270]]\n",
      "\n",
      "Confusion Matrix for BaggingClassifier (TFIDF):\n",
      "[[28706   815]\n",
      " [ 1442  6258]]\n",
      "\n",
      "Confusion Matrix for LinearSVC (CV):\n",
      "[[29069   452]\n",
      " [ 1767  5933]]\n",
      "\n",
      "Confusion Matrix for LinearSVC (TFIDF):\n",
      "[[29186   335]\n",
      " [ 1681  6019]]\n",
      "\n",
      "Confusion Matrix for AdaBoostClassifier (CV):\n",
      "[[29448    73]\n",
      " [ 3415  4285]]\n",
      "\n",
      "Confusion Matrix for AdaBoostClassifier (TFIDF):\n",
      "[[29445    76]\n",
      " [ 3400  4300]]\n"
     ]
    }
   ],
   "source": [
    "#array based confusion matrix\n",
    "\n",
    "import pickle\n",
    "import numpy as np\n",
    "from sklearn.metrics import confusion_matrix\n",
    "\n",
    "# Load Test Data\n",
    "with open(\"cv_test.pkl\", \"rb\") as f:\n",
    "    X_test_cv, y_test = pickle.load(f)\n",
    "\n",
    "with open(\"tfidf_test.pkl\", \"rb\") as f:\n",
    "    X_test_tfidf, y_test = pickle.load(f)\n",
    "\n",
    "# Models to Evaluate\n",
    "model_names = [\n",
    "    \"MultinomialNB\",\n",
    "    \"BaggingClassifier\",\n",
    "    \"LinearSVC\",\n",
    "    \"AdaBoostClassifier\"\n",
    "]\n",
    "\n",
    "for model_name in model_names:\n",
    "    for method in [\"CV\", \"TFIDF\"]:  # Evaluate for both CountVectorizer and TF-IDF\n",
    "        model_file = f\"{model_name}_{method}.pkl\"\n",
    "        \n",
    "        # Load trained model\n",
    "        with open(model_file, \"rb\") as f:\n",
    "            model = pickle.load(f)\n",
    "        \n",
    "        # Select test data based on method\n",
    "        X_test = X_test_cv if method == \"CV\" else X_test_tfidf\n",
    "        \n",
    "        # Predict\n",
    "        y_pred = model.predict(X_test)\n",
    "        \n",
    "        # Compute Confusion Matrix\n",
    "        cm = confusion_matrix(y_test, y_pred)\n",
    "        \n",
    "        # Print Confusion Matrix as an Array\n",
    "        print(f\"\\nConfusion Matrix for {model_name} ({method}):\")\n",
    "        print(np.array(cm))  # Simple array format\n"
   ]
  },
  {
   "cell_type": "markdown",
   "id": "a5283399-bf57-4318-99e5-52df75458485",
   "metadata": {},
   "source": [
    "# Finding best feature selection method \n"
   ]
  },
  {
   "cell_type": "code",
   "execution_count": 27,
   "id": "884c00f1-b6f4-4995-9523-e4d1feeaa625",
   "metadata": {},
   "outputs": [
    {
     "name": "stdout",
     "output_type": "stream",
     "text": [
      "\n",
      "📊 **Evaluation Results:**\n",
      "\n",
      "                Model Vectorization  Accuracy  Precision    Recall  F1 Score\n",
      "0       MultinomialNB            CV  0.927648   0.926375  0.927648  0.926797\n",
      "1       MultinomialNB         TFIDF  0.931275   0.929985  0.931275  0.928902\n",
      "2   BaggingClassifier            CV  0.929207   0.928523  0.929207  0.928816\n",
      "3   BaggingClassifier         TFIDF  0.939362   0.938227  0.939362  0.938394\n",
      "4           LinearSVC            CV  0.940383   0.939907  0.940383  0.938250\n",
      "5           LinearSVC         TFIDF  0.945837   0.945900  0.945837  0.943847\n",
      "6  AdaBoostClassifier            CV  0.906289   0.914116  0.906289  0.895813\n",
      "7  AdaBoostClassifier         TFIDF  0.906612   0.914305  0.906612  0.896248\n",
      "\n",
      "🏆 **Best Performing Method for Each Metric:**\n",
      "\n",
      "Accuracy     TFIDF\n",
      "Precision    TFIDF\n",
      "Recall       TFIDF\n",
      "F1 Score     TFIDF\n",
      "dtype: object\n",
      "\n",
      "✅ Results saved to 'method_comparison_results.csv'\n"
     ]
    }
   ],
   "source": [
    "# Evaluation results and best feature selection method \n",
    "\n",
    "\n",
    "import pickle\n",
    "import pandas as pd\n",
    "from sklearn.metrics import accuracy_score, precision_score, recall_score, f1_score\n",
    "\n",
    "# Load Test Data\n",
    "with open(\"cv_test.pkl\", \"rb\") as f:\n",
    "    X_test_cv, y_test = pickle.load(f)\n",
    "\n",
    "with open(\"tfidf_test.pkl\", \"rb\") as f:\n",
    "    X_test_tfidf, y_test = pickle.load(f)\n",
    "\n",
    "# Models to Evaluate\n",
    "model_names = [\n",
    "    \"MultinomialNB\",\n",
    "    \"BaggingClassifier\",\n",
    "    \"LinearSVC\",\n",
    "    \"AdaBoostClassifier\"\n",
    "]\n",
    "\n",
    "# Initialize List to Store Results\n",
    "results = []\n",
    "\n",
    "for model_name in model_names:\n",
    "    for method in [\"CV\", \"TFIDF\"]:  # Evaluate for both CountVectorizer and TF-IDF\n",
    "        model_file = f\"{model_name}_{method}.pkl\"\n",
    "        \n",
    "        # Load trained model\n",
    "        with open(model_file, \"rb\") as f:\n",
    "            model = pickle.load(f)\n",
    "        \n",
    "        # Select test data based on method\n",
    "        X_test = X_test_cv if method == \"CV\" else X_test_tfidf\n",
    "        \n",
    "        # Predict\n",
    "        y_pred = model.predict(X_test)\n",
    "        \n",
    "        # Compute Metrics\n",
    "        accuracy = accuracy_score(y_test, y_pred)\n",
    "        precision = precision_score(y_test, y_pred, average=\"weighted\", zero_division=0)\n",
    "        recall = recall_score(y_test, y_pred, average=\"weighted\", zero_division=0)\n",
    "        f1 = f1_score(y_test, y_pred, average=\"weighted\", zero_division=0)\n",
    "        \n",
    "        # Store results\n",
    "        results.append([model_name, method, accuracy, precision, recall, f1])\n",
    "\n",
    "# Convert to Pandas DataFrame\n",
    "results_df = pd.DataFrame(results, columns=[\"Model\", \"Vectorization\", \"Accuracy\", \"Precision\", \"Recall\", \"F1 Score\"])\n",
    "\n",
    "# Identify Best Performing Method\n",
    "best_performance = results_df.groupby(\"Vectorization\")[[\"Accuracy\", \"Precision\", \"Recall\", \"F1 Score\"]].mean()\n",
    "best_method = best_performance.idxmax()\n",
    "\n",
    "# Print Results\n",
    "print(\"\\n📊 **Evaluation Results:**\\n\")\n",
    "print(results_df)\n",
    "\n",
    "print(\"\\n🏆 **Best Performing Method for Each Metric:**\\n\")\n",
    "print(best_method)\n",
    "\n",
    "# Save Results to CSV (optional)\n",
    "results_df.to_csv(\"method_comparison_results.csv\", index=False)\n",
    "print(\"\\n✅ Results saved to 'method_comparison_results.csv'\")\n"
   ]
  },
  {
   "cell_type": "markdown",
   "id": "229d2828-f91e-4588-99d4-a4c1e634c746",
   "metadata": {},
   "source": [
    "# Finding best model"
   ]
  },
  {
   "cell_type": "code",
   "execution_count": 28,
   "id": "942b307f-93ef-45ef-a8de-23cc06d87ceb",
   "metadata": {},
   "outputs": [
    {
     "name": "stdout",
     "output_type": "stream",
     "text": [
      "\n",
      "📊 **Best Performing Model & Method:**\n",
      "\n",
      "🏆 **Best Algorithm:** LinearSVC\n",
      "🏆 **Best Vectorization Method:** TFIDF\n",
      "\n",
      "✅ Results saved to 'algorithm_comparison_results.csv'\n"
     ]
    }
   ],
   "source": [
    "#finding best feature selection method and model\n",
    "\n",
    "import pickle\n",
    "import pandas as pd\n",
    "from sklearn.metrics import accuracy_score, precision_score, recall_score, f1_score\n",
    "\n",
    "# Load Test Data\n",
    "with open(\"cv_test.pkl\", \"rb\") as f:\n",
    "    X_test_cv, y_test = pickle.load(f)\n",
    "\n",
    "with open(\"tfidf_test.pkl\", \"rb\") as f:\n",
    "    X_test_tfidf, y_test = pickle.load(f)\n",
    "\n",
    "# Models to Evaluate\n",
    "model_names = [\n",
    "    \"MultinomialNB\",\n",
    "    \"BaggingClassifier\",\n",
    "    \"LinearSVC\",\n",
    "    \"AdaBoostClassifier\"\n",
    "]\n",
    "\n",
    "# Initialize List to Store Results\n",
    "results = []\n",
    "\n",
    "for model_name in model_names:\n",
    "    for method in [\"CV\", \"TFIDF\"]:  # Evaluate both CountVectorizer and TF-IDF\n",
    "        model_file = f\"{model_name}_{method}.pkl\"\n",
    "        \n",
    "        # Load trained model\n",
    "        with open(model_file, \"rb\") as f:\n",
    "            model = pickle.load(f)\n",
    "        \n",
    "        # Select test data based on method\n",
    "        X_test = X_test_cv if method == \"CV\" else X_test_tfidf\n",
    "        \n",
    "        # Predict\n",
    "        y_pred = model.predict(X_test)\n",
    "        \n",
    "        # Compute Metrics\n",
    "        accuracy = accuracy_score(y_test, y_pred)\n",
    "        precision = precision_score(y_test, y_pred, average=\"weighted\", zero_division=0)\n",
    "        recall = recall_score(y_test, y_pred, average=\"weighted\", zero_division=0)\n",
    "        f1 = f1_score(y_test, y_pred, average=\"weighted\", zero_division=0)\n",
    "        \n",
    "        # Store results\n",
    "        results.append([model_name, method, accuracy, precision, recall, f1])\n",
    "\n",
    "# Convert to Pandas DataFrame\n",
    "results_df = pd.DataFrame(results, columns=[\"Model\", \"Vectorization\", \"Accuracy\", \"Precision\", \"Recall\", \"F1 Score\"])\n",
    "\n",
    "# Find Best Algorithm Based on F1 Score\n",
    "best_model_row = results_df.loc[results_df[\"F1 Score\"].idxmax()]\n",
    "best_model = best_model_row[\"Model\"]\n",
    "best_vectorization = best_model_row[\"Vectorization\"]\n",
    "\n",
    "# Print Best Model & Method\n",
    "print(\"\\n📊 **Best Performing Model & Method:**\\n\")\n",
    "print(f\"🏆 **Best Algorithm:** {best_model}\")\n",
    "print(f\"🏆 **Best Vectorization Method:** {best_vectorization}\")\n",
    "\n",
    "# Save Results to CSV\n",
    "results_df.to_csv(\"algorithm_comparison_results.csv\", index=False)\n",
    "print(\"\\n✅ Results saved to 'algorithm_comparison_results.csv'\")\n"
   ]
  },
  {
   "cell_type": "markdown",
   "id": "21e9555e-6f78-4a02-ac20-cfe2071a15ae",
   "metadata": {},
   "source": [
    "# Testing best model on sample inputs"
   ]
  },
  {
   "cell_type": "code",
   "execution_count": 29,
   "id": "21a088e1-c6a3-4ece-ac56-4adcb703e274",
   "metadata": {},
   "outputs": [
    {
     "name": "stdout",
     "output_type": "stream",
     "text": [
      "📝 Text: You are so ugly, no one likes you!\n",
      "📌 Prediction: Bully\n",
      "\n",
      "📝 Text: Hope you have an amazing day! 😊\n",
      "📌 Prediction: Not Bully\n",
      "\n",
      "📝 Text: KYS Why do you even try? You're a t0t@l l0@@ser. \n",
      "📌 Prediction: Not Bully\n",
      "\n",
      "📝 Text: You're such an idi30t, it's embarrassing.\n",
      "📌 Prediction: Not Bully\n",
      "\n",
      "📝 Text: @AliciaDaniella8 t@hem hoes was trash\n",
      "📌 Prediction: Bully\n",
      "\n",
      "📝 Text: you are so pretty\n",
      "📌 Prediction: Not Bully\n",
      "\n",
      "📝 Text: i love you alina\n",
      "📌 Prediction: Not Bully\n",
      "\n",
      "📝 Text: f88K YOU\n",
      "📌 Prediction: Not Bully\n",
      "\n",
      "📝 Text: i am so happy for you sara\n",
      "📌 Prediction: Not Bully\n",
      "\n",
      "📝 Text: idi30t girl l@l XD,\n",
      "📌 Prediction: Not Bully\n",
      "\n",
      "📝 Text: saleema the fucker\n",
      "📌 Prediction: Bully\n",
      "\n",
      "📝 Text: lol you are such an @$$h0leee-- lol22l2l\n",
      "📌 Prediction: Not Bully\n",
      "\n",
      "📝 Text: And we have a winner for the stupid comment award.\n",
      "📌 Prediction: Bully\n",
      "\n",
      "📝 Text: hello hero you look so hansdsome\n",
      "📌 Prediction: Not Bully\n",
      "\n"
     ]
    }
   ],
   "source": [
    "\n",
    "import pickle\n",
    "\n",
    "# Load TF-IDF Vectorizer\n",
    "with open(\"tfidf_vectorizer.pkl\", \"rb\") as f:\n",
    "    tfidf_vectorizer = pickle.load(f)\n",
    "\n",
    "# Load Best Model (SGDClassifier with TF-IDF)\n",
    "with open(\"LinearSVC_TFIDF.pkl\", \"rb\") as f:\n",
    "    best_model = pickle.load(f)\n",
    "\n",
    "# Sample Text for Testing\n",
    "sample_texts = [\n",
    "    \"You are so ugly, no one likes you!\",\n",
    "    \"Hope you have an amazing day! 😊\",\n",
    "    \"KYS Why do you even try? You're a t0t@l l0@@ser. \",\n",
    "    \"You're such an idi30t, it's embarrassing.\",\n",
    "    \"@AliciaDaniella8 t@hem hoes was trash\",\n",
    "    \"you are so pretty\",\n",
    "    \"i love you alina\",\n",
    "    \"f88K YOU\",\n",
    "    \"i am so happy for you sara\",\n",
    "    \"idi30t girl l@l XD,\",\n",
    "    \"saleema the fucker\",\n",
    "    \"lol you are such an @$$h0leee-- lol22l2l\",\n",
    "    \"And we have a winner for the stupid comment award.\",\n",
    "    \"hello hero you look so hansdsome\"\n",
    "    \n",
    "]\n",
    "\n",
    "# Transform the text using TF-IDF\n",
    "X_sample_tfidf = tfidf_vectorizer.transform(sample_texts)\n",
    "\n",
    "# Predict\n",
    "predictions = best_model.predict(X_sample_tfidf)\n",
    "\n",
    "# Print Results\n",
    "for text, pred in zip(sample_texts, predictions):\n",
    "    label = \"Bully\" if pred == 1 else \"Not Bully\"\n",
    "    print(f\"📝 Text: {text}\\n📌 Prediction: {label}\\n\")\n",
    "\n",
    "#NOT GIVING THAT GOOD RESULTS THERES ROOM FOR FINE TUNING "
   ]
  },
  {
   "cell_type": "markdown",
   "id": "366894d5-2d62-43bd-9724-410465c1303c",
   "metadata": {},
   "source": [
    "# Fine tuning for svc & bagging classifier \n",
    "# (best models according to baseline models training results)"
   ]
  },
  {
   "cell_type": "markdown",
   "id": "506dcea1-4deb-4128-9b37-29bceb184301",
   "metadata": {},
   "source": [
    "# Finetuning with cv for SVC CLASSIFIER"
   ]
  },
  {
   "cell_type": "code",
   "execution_count": 35,
   "id": "0d25ab1b-d98f-45c6-9e3e-eca2f243da75",
   "metadata": {},
   "outputs": [
    {
     "name": "stdout",
     "output_type": "stream",
     "text": [
      "Fitting 3 folds for each of 10 candidates, totalling 30 fits\n"
     ]
    },
    {
     "name": "stderr",
     "output_type": "stream",
     "text": [
      "C:\\Users\\mohsi\\anaconda3\\Lib\\site-packages\\sklearn\\svm\\_base.py:1244: ConvergenceWarning: Liblinear failed to converge, increase the number of iterations.\n",
      "  warnings.warn(\n"
     ]
    },
    {
     "name": "stdout",
     "output_type": "stream",
     "text": [
      "🔥 Best Hyperparameters: {'max_iter': 1000, 'dual': False, 'C': 1}\n",
      "✅ Fine-tuned LinearSVC saved successfully with cv!\n"
     ]
    },
    {
     "name": "stderr",
     "output_type": "stream",
     "text": [
      "C:\\Users\\mohsi\\anaconda3\\Lib\\site-packages\\sklearn\\svm\\_base.py:1244: ConvergenceWarning: Liblinear failed to converge, increase the number of iterations.\n",
      "  warnings.warn(\n"
     ]
    }
   ],
   "source": [
    "#fine tuning with cv for svc classifier\n",
    "# we did 2 ways for svc first tried with cv and then with tfidf and clearly tfidf is the winner yay \n",
    "# and the best model is svc we also hypertuned it to improve results\n",
    "\n",
    "\n",
    "from sklearn.linear_model import SGDClassifier\n",
    "from sklearn.svm import LinearSVC \n",
    "from sklearn.model_selection import RandomizedSearchCV\n",
    "import pickle\n",
    "import pandas as pd\n",
    "from sklearn.model_selection import train_test_split\n",
    "\n",
    "# Load the pre-trained vectorizer (CountVectorizer)\n",
    "with open(\"cv_vectorizer.pkl\", \"rb\") as f:\n",
    "    cv_vectorizer = pickle.load(f)\n",
    "\n",
    "# Load dataset\n",
    "df = pd.read_csv(\"cleaned_new.csv\")  # Ensure this file exists and is cleaned\n",
    "\n",
    "# ✅ Fix NaN values\n",
    "df = df.dropna(subset=[\"text\"])  # Remove rows where 'text' is NaN\n",
    "df[\"text\"] = df[\"text\"].astype(str)  # Convert text to string format\n",
    "\n",
    "# Extract features and labels\n",
    "X = df[\"text\"]\n",
    "y = df[\"is_offensive\"]\n",
    "\n",
    "# Transform text data using CountVectorizer\n",
    "X_cv = cv_vectorizer.transform(X)\n",
    "\n",
    "# Split dataset\n",
    "X_train, X_test, y_train, y_test = train_test_split(X_cv, y, test_size=0.2, random_state=42)\n",
    "\n",
    "# Define svc model\n",
    "\n",
    "from sklearn.svm import LinearSVC\n",
    "\n",
    "# Define LinearSVC model\n",
    "svc = LinearSVC(random_state=42)\n",
    "\n",
    "# Correct hyperparameter grid for LinearSVC\n",
    "param_dist = {\n",
    "    'C': [0.01, 0.1, 1, 10],  # Regularization parameter\n",
    "    'max_iter': [500, 1000, 1500],  # Iterations for convergence\n",
    "    'dual': [False],  # Must be False when n_samples > n_features\n",
    "}\n",
    "\n",
    "\n",
    "# Randomized search for faster tuning\n",
    "random_search = RandomizedSearchCV(svc, param_dist, n_iter=10, cv=3, scoring='f1', n_jobs=-1, verbose=2, random_state=42)\n",
    "\n",
    "# Fit the model\n",
    "random_search.fit(X_train, y_train)\n",
    "\n",
    "# Get best parameters\n",
    "best_params = random_search.best_params_\n",
    "print(f\"🔥 Best Hyperparameters: {best_params}\")\n",
    "\n",
    "# Train the best model\n",
    "best_svc = LinearSVC(**best_params, random_state=42)\n",
    "best_svc.fit(X_train, y_train)\n",
    "\n",
    "# Save the fine-tuned model\n",
    "with open(\"LinearSVC_CV_Tuned.pkl\", \"wb\") as f:\n",
    "    pickle.dump(best_svc, f)\n",
    "\n",
    "print(\"✅ Fine-tuned LinearSVC saved successfully with cv!\")\n"
   ]
  },
  {
   "cell_type": "code",
   "execution_count": 36,
   "id": "075826b4-3999-4913-b2a6-a705b35991ca",
   "metadata": {},
   "outputs": [
    {
     "name": "stdout",
     "output_type": "stream",
     "text": [
      "📝 Text: You are so stupid and worthless!\n",
      "🔹 Prediction: Offensive\n",
      "\n",
      "📝 Text: I appreciate your efforts and hard work!\n",
      "🔹 Prediction: Not Offensive\n",
      "\n",
      "📝 Text: Oh wow, that was such an intelligent move... not!\n",
      "🔹 Prediction: Not Offensive\n",
      "\n",
      "📝 Text: You are so ugly, no one likes you!\n",
      "🔹 Prediction: Offensive\n",
      "\n",
      "📝 Text: Hope you have an amazing day! 😊\n",
      "🔹 Prediction: Not Offensive\n",
      "\n",
      "📝 Text: KYS Why do you even try? You're a t0t@l l0@@ser. \n",
      "🔹 Prediction: Not Offensive\n",
      "\n",
      "📝 Text: You're such an idi30t, it's embarrassing.\n",
      "🔹 Prediction: Not Offensive\n",
      "\n",
      "📝 Text: @AliciaDaniella8 t@hem hoes was trash\n",
      "🔹 Prediction: Offensive\n",
      "\n",
      "📝 Text: you are so pretty\n",
      "🔹 Prediction: Not Offensive\n",
      "\n",
      "📝 Text: i love you alina\n",
      "🔹 Prediction: Not Offensive\n",
      "\n",
      "📝 Text: f88K YOU\n",
      "🔹 Prediction: Not Offensive\n",
      "\n",
      "📝 Text: i am so happy for you sara\n",
      "🔹 Prediction: Not Offensive\n",
      "\n",
      "📝 Text: idi30t girl l@l XD,\n",
      "🔹 Prediction: Not Offensive\n",
      "\n",
      "📝 Text: saleema the fucker\n",
      "🔹 Prediction: Offensive\n",
      "\n",
      "📝 Text: lol you are such an @$$h0leee-- lol22l2l\n",
      "🔹 Prediction: Not Offensive\n",
      "\n",
      "📝 Text: And we have a winner for the stupid comment award.\n",
      "🔹 Prediction: Offensive\n",
      "\n",
      "📝 Text: hello hero you look so hansdsome\n",
      "🔹 Prediction: Not Offensive\n",
      "\n"
     ]
    }
   ],
   "source": [
    "import pickle\n",
    "\n",
    "# Load the saved fine-tuned SGDClassifier model\n",
    "with open(\"LinearSVC_CV_Tuned.pkl\", \"rb\") as f:\n",
    "    best_sgd = pickle.load(f)\n",
    "\n",
    "# Load the saved CountVectorizer\n",
    "with open(\"cv_vectorizer.pkl\", \"rb\") as f:\n",
    "    cv_vectorizer = pickle.load(f)\n",
    "\n",
    "# Sample text to test\n",
    "sample_texts = [\n",
    "    \"You are so stupid and worthless!\",  # Offensive example\n",
    "    \"I appreciate your efforts and hard work!\",  # Non-offensive example\n",
    "    \"Oh wow, that was such an intelligent move... not!\",  # Sarcastic example\n",
    "    \"You are so ugly, no one likes you!\",\n",
    "    \"Hope you have an amazing day! 😊\",\n",
    "    \"KYS Why do you even try? You're a t0t@l l0@@ser. \",\n",
    "    \"You're such an idi30t, it's embarrassing.\",\n",
    "    \"@AliciaDaniella8 t@hem hoes was trash\",\n",
    "    \"you are so pretty\",\n",
    "    \"i love you alina\",\n",
    "    \"f88K YOU\",\n",
    "    \"i am so happy for you sara\",\n",
    "    \"idi30t girl l@l XD,\",\n",
    "    \"saleema the fucker\",\n",
    "    \"lol you are such an @$$h0leee-- lol22l2l\",\n",
    "    \"And we have a winner for the stupid comment award.\",\n",
    "    \"hello hero you look so hansdsome\"\n",
    "\n",
    "    \n",
    "]\n",
    "\n",
    "# Convert sample text into the vectorized form\n",
    "sample_texts_cv = cv_vectorizer.transform(sample_texts)\n",
    "\n",
    "# Predict using the fine-tuned model\n",
    "predictions = best_svc.predict(sample_texts_cv)\n",
    "\n",
    "# Display results\n",
    "for text, pred in zip(sample_texts, predictions):\n",
    "    label = \"Offensive\" if pred == 1 else \"Not Offensive\"\n",
    "    print(f\"📝 Text: {text}\\n🔹 Prediction: {label}\\n\")\n"
   ]
  },
  {
   "cell_type": "markdown",
   "id": "f841954c-f84d-49f8-a0c1-f5cac9b81e48",
   "metadata": {},
   "source": [
    "# lets try this because cv not doing graet job \n",
    "\n",
    "# hypertuning with tfidf for SVC CLASSIFIER"
   ]
  },
  {
   "cell_type": "code",
   "execution_count": 47,
   "id": "c19d06d0-83a9-408e-ab72-762db9abfb7f",
   "metadata": {},
   "outputs": [
    {
     "name": "stderr",
     "output_type": "stream",
     "text": [
      "C:\\Users\\mohsi\\anaconda3\\Lib\\site-packages\\sklearn\\model_selection\\_search.py:305: UserWarning: The total space of parameters 8 is smaller than n_iter=10. Running 8 iterations. For exhaustive searches, use GridSearchCV.\n",
      "  warnings.warn(\n"
     ]
    },
    {
     "name": "stdout",
     "output_type": "stream",
     "text": [
      "Fitting 3 folds for each of 8 candidates, totalling 24 fits\n",
      "🔥 Best Hyperparameters: {'tol': 0.0001, 'max_iter': 3000, 'loss': 'squared_hinge', 'dual': True, 'C': 0.1}\n",
      "✅ Fast & Optimized LinearSVC saved successfully with TF-IDF!\n",
      "Text: I hate you! You are so dumb!\n",
      "Predicted Label: Offensive\n",
      "\n",
      "Text: You are amazing and intelligent!\n",
      "Predicted Label: Non-Offensive\n",
      "\n",
      "Text: You're a joke. Can't believe people like you exist.\n",
      "Predicted Label: Offensive\n",
      "\n",
      "Text: Have a great day! Hope you achieve your goals.\n",
      "Predicted Label: Non-Offensive\n",
      "\n",
      "Text: Wow, your ideas are really something... lol\n",
      "Predicted Label: Offensive\n",
      "\n",
      "Text: i think you should keep queit lol my ear hurts\n",
      "Predicted Label: Offensive\n",
      "\n"
     ]
    }
   ],
   "source": [
    "from sklearn.svm import LinearSVC\n",
    "from sklearn.model_selection import RandomizedSearchCV\n",
    "import pickle\n",
    "import pandas as pd\n",
    "from sklearn.model_selection import train_test_split\n",
    "\n",
    "# Load TF-IDF Vectorizer\n",
    "with open(\"tfidf_vectorizer.pkl\", \"rb\") as f:\n",
    "    tfidf_vectorizer = pickle.load(f)\n",
    "\n",
    "# Load dataset\n",
    "df = pd.read_csv(\"cleaned_new.csv\").dropna(subset=[\"text\"])\n",
    "df[\"text\"] = df[\"text\"].astype(str)\n",
    "\n",
    "# Extract features and labels\n",
    "X = df[\"text\"]\n",
    "y = df[\"is_offensive\"]\n",
    "\n",
    "# Transform text using TF-IDF\n",
    "X_tfidf = tfidf_vectorizer.transform(X)\n",
    "\n",
    "# Split dataset\n",
    "X_train, X_test, y_train, y_test = train_test_split(X_tfidf, y, test_size=0.2, random_state=42, stratify=y)\n",
    "\n",
    "# Define LinearSVC model\n",
    "svc = LinearSVC(random_state=42, class_weight='balanced')\n",
    "\n",
    "# Optimized Hyperparameter Grid\n",
    "param_dist = {\n",
    "    'C': [0.1, 0.5, 1, 5],  \n",
    "    'max_iter': [3000, 5000],  \n",
    "    'loss': ['squared_hinge'],  \n",
    "    'dual': [True],  \n",
    "    'tol': [1e-4],  \n",
    "}\n",
    "\n",
    "# Randomized search for fast tuning\n",
    "random_search = RandomizedSearchCV(\n",
    "    svc, param_dist, n_iter=10, cv=3, scoring='f1', \n",
    "    n_jobs=-1, verbose=2, random_state=42\n",
    ")\n",
    "\n",
    "# Train\n",
    "random_search.fit(X_train, y_train)\n",
    "\n",
    "# Get best parameters\n",
    "best_params = random_search.best_params_\n",
    "print(f\"🔥 Best Hyperparameters: {best_params}\")\n",
    "\n",
    "# Train best model\n",
    "best_svc = LinearSVC(**best_params, random_state=42, class_weight='balanced')\n",
    "best_svc.fit(X_train, y_train)\n",
    "\n",
    "# Save model\n",
    "with open(\"LinearSVC_Tuned.pkl\", \"wb\") as f:\n",
    "    pickle.dump(best_svc, f)\n",
    "\n",
    "print(\"✅ Fast & Optimized LinearSVC saved successfully with TF-IDF!\")\n",
    "\n",
    "\n",
    "\n",
    "\n"
   ]
  },
  {
   "cell_type": "code",
   "execution_count": 60,
   "id": "7b1b8487-a31d-47d4-9fa5-c686c0bcbd8c",
   "metadata": {},
   "outputs": [
    {
     "name": "stdout",
     "output_type": "stream",
     "text": [
      "Text: I hate you! You are so dumb!\n",
      "Predicted Label: Offensive\n",
      "\n",
      "Text: You are amazing and intelligent!\n",
      "Predicted Label: Non-Offensive\n",
      "\n",
      "Text: You're a joke. Can't believe people like you exist.\n",
      "Predicted Label: Offensive\n",
      "\n",
      "Text: Have a great day! Hope you achieve your goals.\n",
      "Predicted Label: Non-Offensive\n",
      "\n",
      "Text: Wow, your ideas are really something... lol\n",
      "Predicted Label: Offensive\n",
      "\n",
      "Text: i think you should keep queit lol my ear hurts\n",
      "Predicted Label: Offensive\n",
      "\n",
      "Text: g0 0ffl!n3 permanently\n",
      "Predicted Label: Offensive\n",
      "\n",
      "Text: Pls go back to your default region, you don’t belong here\n",
      "Predicted Label: Offensive\n",
      "\n",
      "Text: no one needs the basket\n",
      "Predicted Label: Non-Offensive\n",
      "\n",
      "Text: You’re the human version of a weak WiFi signal.\n",
      "Predicted Label: Offensive\n",
      "\n",
      "Text: k!ll ur$elf\n",
      "Predicted Label: Offensive\n",
      "\n",
      "Text: idi30t girl l@l XD\n",
      "Predicted Label: Offensive\n",
      "\n"
     ]
    }
   ],
   "source": [
    "import pickle\n",
    "\n",
    "# Load the saved model\n",
    "with open(\"LinearSVC_Tuned.pkl\", \"rb\") as f:\n",
    "    best_svc = pickle.load(f)\n",
    "\n",
    "# Load the TF-IDF vectorizer\n",
    "with open(\"tfidf_vectorizer.pkl\", \"rb\") as f:\n",
    "    tfidf_vectorizer = pickle.load(f)\n",
    "\n",
    "# Sample test cases\n",
    "test_samples = [\n",
    "    \"I hate you! You are so dumb!\",  # Offensive\n",
    "    \"You are amazing and intelligent!\",  # Non-offensive\n",
    "    \"You're a joke. Can't believe people like you exist.\",  # Subtle offensive\n",
    "    \"Have a great day! Hope you achieve your goals.\",  # Non-offensive\n",
    "    \"Wow, your ideas are really something... lol\",  # Sarcastic, possibly offensive\n",
    "    \"i think you should keep queit lol my ear hurts\",\n",
    "    \"g0 0ffl!n3 permanently\",\n",
    "    \"Pls go back to your default region, you don’t belong here\",\n",
    "    \"no one needs the basket\",\n",
    "    \"You’re the human version of a weak WiFi signal.\",\n",
    "    \"k!ll ur$elf\",\n",
    "    \"idi30t girl l@l XD\"\n",
    "]\n",
    "\n",
    "# Transform test samples\n",
    "test_tfidf = tfidf_vectorizer.transform(test_samples)\n",
    "\n",
    "# Make predictions\n",
    "predictions = best_svc.predict(test_tfidf)\n",
    "\n",
    "# Print results\n",
    "for text, label in zip(test_samples, predictions):\n",
    "    print(f\"Text: {text}\\nPredicted Label: {'Offensive' if label == 1 else 'Non-Offensive'}\\n\")\n"
   ]
  },
  {
   "cell_type": "markdown",
   "id": "6618c25e-bea6-421b-aa41-ba0064e3f7b3",
   "metadata": {},
   "source": [
    "# bagging classifier using tfidf vectorizor  as its the 2nd  best we will fine tune it more "
   ]
  },
  {
   "cell_type": "code",
   "execution_count": 42,
   "id": "3cceb0eb-7c78-4e86-8012-3df8007027f1",
   "metadata": {},
   "outputs": [
    {
     "name": "stdout",
     "output_type": "stream",
     "text": [
      "Fitting 3 folds for each of 5 candidates, totalling 15 fits\n"
     ]
    },
    {
     "name": "stderr",
     "output_type": "stream",
     "text": [
      "C:\\Users\\mohsi\\anaconda3\\Lib\\site-packages\\sklearn\\ensemble\\_base.py:166: FutureWarning: `base_estimator` was renamed to `estimator` in version 1.2 and will be removed in 1.4.\n",
      "  warnings.warn(\n"
     ]
    },
    {
     "name": "stdout",
     "output_type": "stream",
     "text": [
      "🔥 Best Hyperparameters: {'n_estimators': 50, 'max_samples': 0.7, 'max_features': 0.7, 'bootstrap': True}\n"
     ]
    },
    {
     "name": "stderr",
     "output_type": "stream",
     "text": [
      "C:\\Users\\mohsi\\anaconda3\\Lib\\site-packages\\sklearn\\ensemble\\_base.py:166: FutureWarning: `base_estimator` was renamed to `estimator` in version 1.2 and will be removed in 1.4.\n",
      "  warnings.warn(\n"
     ]
    },
    {
     "name": "stdout",
     "output_type": "stream",
     "text": [
      "✅ Fine-Tuned Bagging Classifier Saved Successfully!\n"
     ]
    }
   ],
   "source": [
    "from sklearn.ensemble import BaggingClassifier\n",
    "from sklearn.tree import DecisionTreeClassifier\n",
    "from sklearn.model_selection import RandomizedSearchCV\n",
    "import pickle\n",
    "import pandas as pd\n",
    "from sklearn.model_selection import train_test_split\n",
    "\n",
    "# ✅ Load TF-IDF Vectorizer\n",
    "with open(\"tfidf_vectorizer.pkl\", \"rb\") as f:\n",
    "    tfidf_vectorizer = pickle.load(f)\n",
    "\n",
    "# ✅ Load Dataset\n",
    "df = pd.read_csv(\"cleaned_new.csv\").dropna(subset=[\"text\"])\n",
    "df[\"text\"] = df[\"text\"].astype(str)\n",
    "\n",
    "# ✅ Extract Features and Labels\n",
    "X = df[\"text\"]\n",
    "y = df[\"is_offensive\"]\n",
    "\n",
    "# ✅ Transform Text Data\n",
    "X_tfidf = tfidf_vectorizer.transform(X)\n",
    "\n",
    "# ✅ Split Dataset\n",
    "X_train, X_test, y_train, y_test = train_test_split(X_tfidf, y, test_size=0.2, random_state=42)\n",
    "\n",
    "# ✅ Reduce Training Data (Fast Testing)\n",
    "X_train_small, _, y_train_small, _ = train_test_split(X_train, y_train, train_size=0.5, random_state=42)\n",
    "\n",
    "# ✅ Define Model\n",
    "base_estimator = DecisionTreeClassifier()\n",
    "bagging = BaggingClassifier(base_estimator=base_estimator, random_state=42)\n",
    "\n",
    "# ✅ Optimized Hyperparameter Grid (Faster)\n",
    "param_dist = {\n",
    "    \"n_estimators\": [10, 25, 50, 75],  \n",
    "    \"max_samples\": [0.5, 0.7],  \n",
    "    \"max_features\": [0.5, 0.7],  \n",
    "    \"bootstrap\": [True],  \n",
    "}\n",
    "\n",
    "# ✅ Faster Randomized Search\n",
    "random_search = RandomizedSearchCV(\n",
    "    bagging, param_dist, n_iter=5, cv=3, scoring=\"f1\", n_jobs=-1, verbose=1, random_state=42\n",
    ")\n",
    "\n",
    "# ✅ Fit Model (Now Runs Faster)\n",
    "random_search.fit(X_train_small, y_train_small)\n",
    "\n",
    "# ✅ Best Parameters\n",
    "best_params = random_search.best_params_\n",
    "print(f\"🔥 Best Hyperparameters: {best_params}\")\n",
    "\n",
    "# ✅ Train Best Model\n",
    "best_bagging = BaggingClassifier(base_estimator=base_estimator, **best_params, random_state=42)\n",
    "best_bagging.fit(X_train, y_train)  # Train on Full Data After Finding Best Params\n",
    "\n",
    "# ✅ Save Fine-Tuned Model\n",
    "with open(\"BaggingClassifier_TFIDF_Tuned.pkl\", \"wb\") as f:\n",
    "    pickle.dump(best_bagging, f)\n",
    "\n",
    "print(\"✅ Fine-Tuned Bagging Classifier Saved Successfully!\")\n"
   ]
  },
  {
   "cell_type": "code",
   "execution_count": 43,
   "id": "ad48cbec-134f-4d7b-90c3-ff975ec7e23f",
   "metadata": {},
   "outputs": [
    {
     "name": "stdout",
     "output_type": "stream",
     "text": [
      "📌 Text: You are so stupid and worthless! ➡ Prediction: 🔴 Offensive\n",
      "📌 Text: I hope you have an amazing day! ➡ Prediction: 🟢 Not Offensive\n",
      "📌 Text: Go back to where you came from. ➡ Prediction: 🟢 Not Offensive\n",
      "📌 Text: This is a great example of kindness. ➡ Prediction: 🟢 Not Offensive\n"
     ]
    }
   ],
   "source": [
    "import pickle\n",
    "\n",
    "# ✅ Load Fine-Tuned Bagging Model\n",
    "with open(\"BaggingClassifier_TFIDF_Tuned.pkl\", \"rb\") as f:\n",
    "    bagging_model = pickle.load(f)\n",
    "\n",
    "# ✅ Load TF-IDF Vectorizer\n",
    "with open(\"tfidf_vectorizer.pkl\", \"rb\") as f:\n",
    "    tfidf_vectorizer = pickle.load(f)\n",
    "\n",
    "# ✅ Function to Predict Offensive or Not\n",
    "def predict_text(text):\n",
    "    text_tfidf = tfidf_vectorizer.transform([text])  # Convert text to TF-IDF features\n",
    "    prediction = bagging_model.predict(text_tfidf)  # Get prediction\n",
    "    return \"🔴 Offensive\" if prediction[0] == 1 else \"🟢 Not Offensive\"\n",
    "\n",
    "# ✅ Test with Sample Texts\n",
    "samples = [\n",
    "    \"You are so stupid and worthless!\", \n",
    "    \"I hope you have an amazing day!\", \n",
    "    \"Go back to where you came from.\", \n",
    "    \"This is a great example of kindness.\"\n",
    "]\n",
    "\n",
    "for text in samples:\n",
    "    print(f\"📌 Text: {text} ➡ Prediction: {predict_text(text)}\")\n"
   ]
  },
  {
   "cell_type": "code",
   "execution_count": 44,
   "id": "3a7f1f60-3d88-42bd-9577-326dc7347cb9",
   "metadata": {},
   "outputs": [
    {
     "name": "stderr",
     "output_type": "stream",
     "text": [
      "C:\\Users\\mohsi\\anaconda3\\Lib\\site-packages\\sklearn\\ensemble\\_base.py:166: FutureWarning: `base_estimator` was renamed to `estimator` in version 1.2 and will be removed in 1.4.\n",
      "  warnings.warn(\n"
     ]
    },
    {
     "name": "stdout",
     "output_type": "stream",
     "text": [
      "✅ Optimized BaggingClassifier trained & saved successfully!\n"
     ]
    }
   ],
   "source": [
    "from sklearn.ensemble import BaggingClassifier\n",
    "from sklearn.linear_model import LogisticRegression\n",
    "from sklearn.model_selection import train_test_split\n",
    "import pickle\n",
    "import pandas as pd\n",
    "\n",
    "# ✅ Load TF-IDF Vectorizer\n",
    "with open(\"tfidf_vectorizer.pkl\", \"rb\") as f:\n",
    "    tfidf_vectorizer = pickle.load(f)\n",
    "\n",
    "# ✅ Load Full Dataset (More Data for Better Accuracy)\n",
    "df = pd.read_csv(\"cleaned_new.csv\").dropna(subset=[\"text\"])\n",
    "df[\"text\"] = df[\"text\"].astype(str)\n",
    "\n",
    "# ✅ Transform text using TF-IDF\n",
    "X_tfidf = tfidf_vectorizer.transform(df[\"text\"])\n",
    "y = df[\"is_offensive\"]\n",
    "\n",
    "# ✅ Split dataset\n",
    "X_train, X_test, y_train, y_test = train_test_split(X_tfidf, y, test_size=0.2, random_state=42)\n",
    "\n",
    "# ✅ Use Logistic Regression for Better Results\n",
    "base_model = LogisticRegression(max_iter=500, random_state=42)\n",
    "\n",
    "# ✅ Optimized BaggingClassifier\n",
    "bagging = BaggingClassifier(base_estimator=base_model, n_estimators=30, max_samples=0.9, max_features=0.9, bootstrap=True, random_state=42)\n",
    "\n",
    "# ✅ Train the model\n",
    "bagging.fit(X_train, y_train)\n",
    "\n",
    "# ✅ Save the optimized model\n",
    "with open(\"Optimized_Bagging_TFIDF.pkl\", \"wb\") as f:\n",
    "    pickle.dump(bagging, f)\n",
    "\n",
    "print(\"✅ Optimized BaggingClassifier trained & saved successfully!\")\n"
   ]
  },
  {
   "cell_type": "code",
   "execution_count": 45,
   "id": "9f8b6d37-697a-4cfe-a397-f319bb042360",
   "metadata": {},
   "outputs": [
    {
     "name": "stdout",
     "output_type": "stream",
     "text": [
      "📝 Text: You are so ugly, no one likes you!  →  Prediction: Offensive\n",
      "📝 Text: Hope you have an amazing day! 😊  →  Prediction: Not Offensive\n",
      "📝 Text: @AliciaDaniella8 t@hem hoes was trash  →  Prediction: Offensive\n",
      "📝 Text: idi30t girl l@l XD,  →  Prediction: Offensive\n",
      "📝 Text: sally the fucker  →  Prediction: Offensive\n",
      "📝 Text: And we have a winner for the stupid comment award.  →  Prediction: Offensive\n",
      "📝 Text: i am fine selena what about you ?  →  Prediction: Not Offensive\n"
     ]
    }
   ],
   "source": [
    "# ✅ Load optimized model\n",
    "with open(\"Optimized_Bagging_TFIDF.pkl\", \"rb\") as f:\n",
    "    bagging_model = pickle.load(f)\n",
    "\n",
    "# ✅ Predict function\n",
    "def predict_text(text):\n",
    "    text_tfidf = tfidf_vectorizer.transform([text])\n",
    "    prediction = bagging_model.predict(text_tfidf)\n",
    "    return \"Offensive\" if prediction[0] == 1 else \"Not Offensive\"\n",
    "\n",
    "# ✅ Test examples\n",
    "sample_texts = [\n",
    "    \"You are so ugly, no one likes you!\", #offensive\n",
    "    \"Hope you have an amazing day! 😊\", #not offensive\n",
    "    \"@AliciaDaniella8 t@hem hoes was trash\", #explicitly offensive\n",
    "    \"idi30t girl l@l XD,\",# coded insults\n",
    "    \"sally the fucker\", #offensive explicitly\n",
    "    \"And we have a winner for the stupid comment award.\", #offensive\n",
    "    \"i am fine selena what about you ?\"# not offensive\n",
    "]\n",
    "\n",
    "# ✅ Get predictions\n",
    "for text in sample_texts:\n",
    "    print(f\"📝 Text: {text}  →  Prediction: {predict_text(text)}\")\n"
   ]
  },
  {
   "cell_type": "code",
   "execution_count": 16,
   "id": "7ac4c833-be7f-466d-8352-2485c631e93f",
   "metadata": {},
   "outputs": [
    {
     "name": "stdout",
     "output_type": "stream",
     "text": [
      "\n",
      "Confusion Matrix (Tuned LinearSVC with TF-IDF):\n",
      "[[28406  1115]\n",
      " [ 1271  6429]]\n",
      "\n",
      "📊 Classification Report:\n",
      "\n",
      "              precision    recall  f1-score   support\n",
      "\n",
      "           0       0.96      0.96      0.96     29521\n",
      "           1       0.85      0.83      0.84      7700\n",
      "\n",
      "    accuracy                           0.94     37221\n",
      "   macro avg       0.90      0.90      0.90     37221\n",
      "weighted avg       0.94      0.94      0.94     37221\n",
      "\n"
     ]
    },
    {
     "data": {
      "image/png": "[encoded data removed]",
      "text/plain": [
       "<Figure size 640x480 with 2 Axes>"
      ]
     },
     "metadata": {},
     "output_type": "display_data"
    }
   ],
   "source": [
    "import pickle\n",
    "import numpy as np\n",
    "from sklearn.metrics import confusion_matrix, ConfusionMatrixDisplay, classification_report\n",
    "\n",
    "# Load Test Data (both features and labels)\n",
    "with open(\"tfidf_test.pkl\", \"rb\") as f:\n",
    "    X_test_tfidf, y_test = pickle.load(f)\n",
    "\n",
    "# Load the tuned model\n",
    "with open(\"LinearSVC_TFIDF_Tuned.pkl\", \"rb\") as f:\n",
    "    best_svc = pickle.load(f)\n",
    "\n",
    "# Predict\n",
    "y_pred = best_svc.predict(X_test_tfidf)\n",
    "\n",
    "# Confusion Matrix\n",
    "cm = confusion_matrix(y_test, y_pred)\n",
    "print(\"\\nConfusion Matrix (Tuned LinearSVC with TF-IDF):\")\n",
    "print(np.array(cm))\n",
    "\n",
    "# Optional: Visual + metrics\n",
    "disp = ConfusionMatrixDisplay(confusion_matrix=cm, display_labels=best_svc.classes_)\n",
    "disp.plot(cmap='Blues')\n",
    "disp.ax_.set_title(\"Confusion Matrix - Tuned LinearSVC (TF-IDF)\")\n",
    "\n",
    "print(\"\\n📊 Classification Report:\\n\")\n",
    "print(classification_report(y_test, y_pred))\n"
   ]
  },
  {
   "cell_type": "code",
   "execution_count": 15,
   "id": "d0b09a96-14db-4edf-93c3-7d2533b5eee2",
   "metadata": {},
   "outputs": [
    {
     "name": "stdout",
     "output_type": "stream",
     "text": [
      "\n",
      "Confusion Matrix (Tuned Bagging Classifier with TF-IDF):\n",
      "[[29399   122]\n",
      " [  653  7047]]\n",
      "\n",
      "📊 Classification Report:\n",
      "\n",
      "              precision    recall  f1-score   support\n",
      "\n",
      "           0       0.98      1.00      0.99     29521\n",
      "           1       0.98      0.92      0.95      7700\n",
      "\n",
      "    accuracy                           0.98     37221\n",
      "   macro avg       0.98      0.96      0.97     37221\n",
      "weighted avg       0.98      0.98      0.98     37221\n",
      "\n"
     ]
    },
    {
     "data": {
      "image/png": "[encoded data removed]",
      "text/plain": [
       "<Figure size 640x480 with 2 Axes>"
      ]
     },
     "metadata": {},
     "output_type": "display_data"
    }
   ],
   "source": [
    "import pickle\n",
    "import numpy as np\n",
    "from sklearn.metrics import confusion_matrix, ConfusionMatrixDisplay, classification_report\n",
    "\n",
    "# Load Test Data\n",
    "with open(\"tfidf_test.pkl\", \"rb\") as f:\n",
    "    X_test_tfidf, y_test = pickle.load(f)\n",
    "\n",
    "# Load the tuned Bagging Classifier model\n",
    "with open(\"BaggingClassifier_TFIDF_Tuned.pkl\", \"rb\") as f:\n",
    "    best_bagging = pickle.load(f)\n",
    "\n",
    "# Predict\n",
    "y_pred = best_bagging.predict(X_test_tfidf)\n",
    "\n",
    "# Confusion Matrix\n",
    "cm = confusion_matrix(y_test, y_pred)\n",
    "print(\"\\nConfusion Matrix (Tuned Bagging Classifier with TF-IDF):\")\n",
    "print(np.array(cm))\n",
    "\n",
    "# Visual Display\n",
    "disp = ConfusionMatrixDisplay(confusion_matrix=cm, display_labels=best_bagging.classes_)\n",
    "disp.plot(cmap='Blues')\n",
    "disp.ax_.set_title(\"Confusion Matrix - Tuned Bagging Classifier (TF-IDF)\")\n",
    "\n",
    "# Classification Report\n",
    "print(\"\\n📊 Classification Report:\\n\")\n",
    "print(classification_report(y_test, y_pred))\n"
   ]
  },
  {
   "cell_type": "code",
   "execution_count": 1,
   "id": "162ce262-0586-4463-a0ff-2b045a596e81",
   "metadata": {},
   "outputs": [
    {
     "data": {
      "image/png": "[encoded data removed]",
      "text/plain": [
       "<Figure size 800x600 with 1 Axes>"
      ]
     },
     "metadata": {},
     "output_type": "display_data"
    }
   ],
   "source": [
    "import pickle\n",
    "import matplotlib.pyplot as plt\n",
    "from sklearn.metrics import roc_curve, auc\n",
    "from sklearn.preprocessing import label_binarize\n",
    "\n",
    "# Load test data\n",
    "with open(\"tfidf_test.pkl\", \"rb\") as f:\n",
    "    X_test_tfidf, y_test = pickle.load(f)\n",
    "\n",
    "# Binarize the labels (important for ROC)\n",
    "y_test_bin = label_binarize(y_test, classes=[0, 1]).ravel()\n",
    "\n",
    "# --- Load and evaluate Tuned LinearSVC ---\n",
    "with open(\"LinearSVC_TFIDF_Tuned.pkl\", \"rb\") as f:\n",
    "    svc_model = pickle.load(f)\n",
    "\n",
    "# Note: LinearSVC doesn't have predict_proba, so we use decision_function\n",
    "svc_scores = svc_model.decision_function(X_test_tfidf)\n",
    "fpr_svc, tpr_svc, _ = roc_curve(y_test_bin, svc_scores)\n",
    "roc_auc_svc = auc(fpr_svc, tpr_svc)\n",
    "\n",
    "# --- Load and evaluate Tuned Bagging Classifier ---\n",
    "with open(\"BaggingClassifier_TFIDF_Tuned.pkl\", \"rb\") as f:\n",
    "    bag_model = pickle.load(f)\n",
    "\n",
    "# BaggingClassifier supports predict_proba\n",
    "bag_scores = bag_model.predict_proba(X_test_tfidf)[:, 1]\n",
    "fpr_bag, tpr_bag, _ = roc_curve(y_test_bin, bag_scores)\n",
    "roc_auc_bag = auc(fpr_bag, tpr_bag)\n",
    "\n",
    "# --- Plot both ROC curves ---\n",
    "plt.figure(figsize=(8, 6))\n",
    "plt.plot(fpr_svc, tpr_svc, color='darkorange', lw=2, label=f\"Tuned LinearSVC (AUC = {roc_auc_svc:.2f})\")\n",
    "plt.plot(fpr_bag, tpr_bag, color='navy', lw=2, label=f\"Tuned Bagging Classifier (AUC = {roc_auc_bag:.2f})\")\n",
    "plt.plot([0, 1], [0, 1], color='gray', linestyle='--')\n",
    "\n",
    "plt.title(\"ROC Curve Comparison: Tuned LinearSVC vs Bagging (TF-IDF)\")\n",
    "plt.xlabel(\"False Positive Rate\")\n",
    "plt.ylabel(\"True Positive Rate\")\n",
    "plt.legend(loc=\"lower right\")\n",
    "plt.grid(True)\n",
    "plt.tight_layout()\n",
    "plt.show()\n"
   ]
  },
  {
   "cell_type": "code",
   "execution_count": 3,
   "id": "ecc07ba2-62c4-43a5-9572-443213fbc70b",
   "metadata": {},
   "outputs": [
    {
     "data": {
      "image/png": "[encoded data removed]",
      "text/plain": [
       "<Figure size 800x600 with 1 Axes>"
      ]
     },
     "metadata": {},
     "output_type": "display_data"
    }
   ],
   "source": [
    "from sklearn.metrics import precision_recall_curve, average_precision_score\n",
    "\n",
    "# SVC PR Curve\n",
    "precision_svc, recall_svc, _ = precision_recall_curve(y_test_bin, svc_scores)\n",
    "avg_prec_svc = average_precision_score(y_test_bin, svc_scores)\n",
    "\n",
    "# Bagging PR Curve\n",
    "precision_bag, recall_bag, _ = precision_recall_curve(y_test_bin, bag_scores)\n",
    "avg_prec_bag = average_precision_score(y_test_bin, bag_scores)\n",
    "\n",
    "# Plot\n",
    "plt.figure(figsize=(8, 6))\n",
    "plt.plot(recall_svc, precision_svc, label=f\"Tuned LinearSVC (AP = {avg_prec_svc:.2f})\", color='darkorange')\n",
    "plt.plot(recall_bag, precision_bag, label=f\"Tuned Bagging (AP = {avg_prec_bag:.2f})\", color='navy')\n",
    "plt.xlabel(\"Recall\")\n",
    "plt.ylabel(\"Precision\")\n",
    "plt.title(\"Precision-Recall Curve\")\n",
    "plt.legend()\n",
    "plt.grid(True)\n",
    "plt.tight_layout()\n",
    "plt.show()\n"
   ]
  },
  {
   "cell_type": "code",
   "execution_count": 1,
   "id": "49b32f3b-30c7-4d75-bb89-fa881c6086a8",
   "metadata": {},
   "outputs": [
    {
     "name": "stdout",
     "output_type": "stream",
     "text": [
      "\n",
      "📈 Evaluation Metrics (Tuned LinearSVC with TF-IDF):\n",
      "🔹 Accuracy : 0.9359\n",
      "🔹 Precision: 0.9355\n",
      "🔹 Recall   : 0.9359\n",
      "🔹 F1-Score : 0.9357\n"
     ]
    }
   ],
   "source": [
    "import pickle\n",
    "import numpy as np\n",
    "from sklearn.metrics import precision_score, recall_score, f1_score, accuracy_score\n",
    "\n",
    "# Load Test Data (features and labels)\n",
    "with open(\"tfidf_test.pkl\", \"rb\") as f:\n",
    "    X_test_tfidf, y_test = pickle.load(f)\n",
    "\n",
    "# Load the tuned model\n",
    "with open(\"LinearSVC_TFIDF_Tuned.pkl\", \"rb\") as f:\n",
    "    best_svc = pickle.load(f)\n",
    "\n",
    "# Predict\n",
    "y_pred = best_svc.predict(X_test_tfidf)\n",
    "\n",
    "# Calculate metrics\n",
    "precision = precision_score(y_test, y_pred, average='weighted')\n",
    "recall = recall_score(y_test, y_pred, average='weighted')\n",
    "f1 = f1_score(y_test, y_pred, average='weighted')\n",
    "accuracy = accuracy_score(y_test, y_pred)\n",
    "\n",
    "# Print metrics\n",
    "print(\"\\n📈 Evaluation Metrics (Tuned LinearSVC with TF-IDF):\")\n",
    "print(f\"🔹 Accuracy : {accuracy:.4f}\")\n",
    "print(f\"🔹 Precision: {precision:.4f}\")\n",
    "print(f\"🔹 Recall   : {recall:.4f}\")\n",
    "print(f\"🔹 F1-Score : {f1:.4f}\")\n"
   ]
  },
  {
   "cell_type": "code",
   "execution_count": 2,
   "id": "4a7e0405-946d-4c98-a609-88ca0bcb89ea",
   "metadata": {},
   "outputs": [
    {
     "name": "stdout",
     "output_type": "stream",
     "text": [
      "\n",
      "📈 Evaluation Metrics (Tuned Bagging Classifier with TF-IDF):\n",
      "🔹 Accuracy : 0.9792\n",
      "🔹 Precision: 0.9792\n",
      "🔹 Recall   : 0.9792\n",
      "🔹 F1-Score : 0.9789\n"
     ]
    }
   ],
   "source": [
    "import pickle\n",
    "import numpy as np\n",
    "from sklearn.metrics import precision_score, recall_score, f1_score, accuracy_score\n",
    "\n",
    "# Load Test Data\n",
    "with open(\"tfidf_test.pkl\", \"rb\") as f:\n",
    "    X_test_tfidf, y_test = pickle.load(f)\n",
    "\n",
    "# Load the tuned Bagging Classifier model\n",
    "with open(\"BaggingClassifier_TFIDF_Tuned.pkl\", \"rb\") as f:\n",
    "    best_bagging = pickle.load(f)\n",
    "\n",
    "# Predict\n",
    "y_pred = best_bagging.predict(X_test_tfidf)\n",
    "\n",
    "# Calculate metrics\n",
    "accuracy = accuracy_score(y_test, y_pred)\n",
    "precision = precision_score(y_test, y_pred, average='weighted')\n",
    "recall = recall_score(y_test, y_pred, average='weighted')\n",
    "f1 = f1_score(y_test, y_pred, average='weighted')\n",
    "\n",
    "# Print metrics\n",
    "print(\"\\n📈 Evaluation Metrics (Tuned Bagging Classifier with TF-IDF):\")\n",
    "print(f\"🔹 Accuracy : {accuracy:.4f}\")\n",
    "print(f\"🔹 Precision: {precision:.4f}\")\n",
    "print(f\"🔹 Recall   : {recall:.4f}\")\n",
    "print(f\"🔹 F1-Score : {f1:.4f}\")\n"
   ]
  },
  {
   "cell_type": "code",
   "execution_count": null,
   "id": "67b10df0-1960-4959-a71b-c573aa79a351",
   "metadata": {},
   "outputs": [],
   "source": []
  }
 ],
 "metadata": {
  "kernelspec": {
   "display_name": "Python 3 (ipykernel)",
   "language": "python",
   "name": "python3"
  },
  "language_info": {
   "codemirror_mode": {
    "name": "ipython",
    "version": 3
   },
   "file_extension": ".py",
   "mimetype": "text/x-python",
   "name": "python",
   "nbconvert_exporter": "python",
   "pygments_lexer": "ipython3",
   "version": "3.11.7"
  }
 },
 "nbformat": 4,
 "nbformat_minor": 5
}
